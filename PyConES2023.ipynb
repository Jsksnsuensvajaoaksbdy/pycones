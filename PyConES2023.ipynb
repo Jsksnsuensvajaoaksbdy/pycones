{
 "cells": [
  {
   "cell_type": "code",
   "execution_count": 17,
   "id": "577f0a83",
   "metadata": {
    "slideshow": {
     "slide_type": "skip"
    }
   },
   "outputs": [
    {
     "data": {
      "text/html": [
       "\n",
       "<style>\n",
       "#header, div.unselected { display: none !important }\n",
       "#notebook, .container { padding: 150 !important }\n",
       "#site { height:85% !important }\n",
       "</style>\n"
      ],
      "text/plain": [
       "<IPython.core.display.HTML object>"
      ]
     },
     "execution_count": 17,
     "metadata": {},
     "output_type": "execute_result"
    }
   ],
   "source": [
    "from IPython.display import HTML\n",
    "style = \"\"\"\n",
    "<style>\n",
    "#header, div.unselected { display: none !important }\n",
    "#notebook, .container { padding: 150 !important }\n",
    "#site { height:85% !important }\n",
    "</style>\n",
    "\"\"\"\n",
    "#HTML(style)"
   ]
  },
  {
   "cell_type": "code",
   "execution_count": 18,
   "id": "f26b2016",
   "metadata": {
    "scrolled": true,
    "slideshow": {
     "slide_type": "skip"
    }
   },
   "outputs": [
    {
     "data": {
      "text/html": [],
      "text/plain": [
       "<IPython.core.display.HTML object>"
      ]
     },
     "execution_count": 18,
     "metadata": {},
     "output_type": "execute_result"
    }
   ],
   "source": [
    "style= \"\"\n",
    "HTML(style)"
   ]
  },
  {
   "cell_type": "markdown",
   "id": "46dacc07",
   "metadata": {
    "slideshow": {
     "slide_type": "slide"
    },
    "tags": []
   },
   "source": [
    "# Dos rompecabezas de Python\n",
    "\n",
    "## Buscando el por qué \n",
    "\n",
    "### PyCon ES 2023\n",
    "\n",
    "#### Naomi Ceder\n",
    "\n",
    "* **https://naomiceder.tech** \n",
    "* **@naomiceder@mastodon.art** \n",
    "* **https://www.linkedin.com/in/naomiceder/** \n",
    "\n",
    "\n",
    "\n",
    "\n"
   ]
  },
  {
   "cell_type": "markdown",
   "id": "e1c8b66b",
   "metadata": {
    "lang": "es",
    "slideshow": {
     "slide_type": "notes"
    }
   },
   "source": [
    "Hola, soy Naomi y soy la autora del Quick Python Book, y ex-presidenta de la PSF. \n",
    "\n",
    "Python es fácil de aprender porque se comporta de manera predecible, algo que a menudo se llama \"el principio de la menor sorpresa\". Entonces, cuando aprendes algunas funciones de Python, generalmente puedes adivinar cómo se comportarán otras funciones.\n",
    "\n",
    "Sin embargo, los recién llegados a Python pueden encontrar algunas cosas sorprendentes, y hoy les mostraré dos de ellas y explicaré por qué su comportamiento sorprendente es realmente consistente con la forma en que funciona Python."
   ]
  },
  {
   "cell_type": "markdown",
   "id": "7d57bde8",
   "metadata": {
    "slideshow": {
     "slide_type": "slide"
    },
    "tags": []
   },
   "source": [
    "## La importancia de modelos\n",
    "\n",
    "### Modelos mentales\n",
    "\n",
    "* Los formamos aprendiendo el lenguaje, por las explicaciones de otras personas\n",
    "* Podemos confirmarlos por la exploración\n",
    "\n",
    "\n",
    "\n"
   ]
  },
  {
   "cell_type": "markdown",
   "id": "fb0e30b7",
   "metadata": {
    "lang": "es",
    "slideshow": {
     "slide_type": "notes"
    }
   },
   "source": [
    "Durante 15 años ensiñé priogramación a estudiantes, y me convencí de que era muy importante tener modelos mentales correctos para poder pensar correctamente en casos confusos.\n",
    "\n",
    "Por supuesto la primera vez en la que formamos esos modelos es cuando aprendimos el lenguaje, leyendo la documentación o libros, o tal vez escuchando las explicaciones de programadores con más experiencia. \n",
    "\n",
    "Entonces, aunque todos vosotros comprendáis completamente estas rompecabezas, es posible que tengáis que ayudar a otros en el futuro a formar modelos mentales correctos y evitar los bugs. \n",
    "\n",
    "Pero si nuestros modelos mentales no son correctos, aun podemos corregirlos mediante nuestra propia experimentación con Python. \n",
    "\n",
    "Por eso, en esta charla no solo os diré el modelo correcto sino también experimentando espero mostraros su \"por qué\". Y claro os pido que tengáis en mente personas nuevas y el principio de la menor sorpresa. \n",
    "\n",
    "Espero que esta charla os ayude. "
   ]
  },
  {
   "cell_type": "markdown",
   "id": "c702cb5f",
   "metadata": {
    "lang": "en",
    "slideshow": {
     "slide_type": "slide"
    }
   },
   "source": [
    "## Rompecabeza 1\n",
    "\n",
    "### Parámetros predeterminados"
   ]
  },
  {
   "cell_type": "markdown",
   "id": "67943e49",
   "metadata": {
    "slideshow": {
     "slide_type": "notes"
    }
   },
   "source": [
    "Una \"sorpresa\" o rompecabeza para los principiantes tiene que ver con los parámetros predeterminados de las funciónes. "
   ]
  },
  {
   "cell_type": "code",
   "execution_count": 3,
   "id": "46c8d5de",
   "metadata": {
    "lang": "en",
    "slideshow": {
     "slide_type": "slide"
    }
   },
   "outputs": [
    {
     "name": "stdout",
     "output_type": "stream",
     "text": [
      "Hola, prueba\n"
     ]
    }
   ],
   "source": [
    "# función con parámetro explicito\n",
    "\n",
    "def foo_1(parametro):\n",
    "    print(f\"Hola, {parametro}\")\n",
    "\n",
    "foo_1(\"prueba\")"
   ]
  },
  {
   "cell_type": "markdown",
   "id": "11bac9f5",
   "metadata": {
    "lang": "en",
    "slideshow": {
     "slide_type": "notes"
    }
   },
   "source": [
    "Primero, miremos una función simple. Creo que está bastante claro - cuando nuestro código llama esta función, hay que dar también un parámetro (en este caso, el parámetro se llama \"parametro\"). Esto funciona bien, es simple y fácil de entender.\n",
    "\n",
    "Si no hay un parámetro, Python va a lanzar una excepción `TypeError`. "
   ]
  },
  {
   "cell_type": "code",
   "execution_count": 4,
   "id": "2e401a37",
   "metadata": {
    "slideshow": {
     "slide_type": "slide"
    }
   },
   "outputs": [
    {
     "name": "stdout",
     "output_type": "stream",
     "text": [
      "Hola, prueba\n",
      "Hola, Usuario\n"
     ]
    }
   ],
   "source": [
    "# función con parámetro predeterminado\n",
    "\n",
    "def foo_2(parametro=\"Usuario\"):\n",
    "    print(f\"Hola, {parametro}\")\n",
    "\n",
    "foo_2(\"prueba\")\n",
    "foo_2()"
   ]
  },
  {
   "cell_type": "markdown",
   "id": "d53a967e",
   "metadata": {
    "slideshow": {
     "slide_type": "notes"
    }
   },
   "source": [
    "Pero Python tiene una característica genial - parámetros predeterminados. \n",
    "\n",
    "Podemos especificar un parámetro (o más) predeterminado, en este caso la cadena \"Usuario\" es el valor por defecto de nuestro parámetro. Ahora, si llamamos la función sin parámetros, \"Usuario\" se usará como el parámetro. \n",
    "\n",
    "Esto puede ser bastante útil en entornos donde a veces falta el parametro o no queremos escribirlo en nuestro código. "
   ]
  },
  {
   "cell_type": "markdown",
   "id": "9f179688",
   "metadata": {
    "slideshow": {
     "slide_type": "slide"
    }
   },
   "source": [
    "### Pero hay un problema\n",
    "\n",
    "Consideremos lo siguiente... "
   ]
  },
  {
   "cell_type": "markdown",
   "id": "f509af5e",
   "metadata": {
    "slideshow": {
     "slide_type": "notes"
    }
   },
   "source": [
    "### Pero hay un problema\n",
    "\n",
    "Consideremos lo siguiente... "
   ]
  },
  {
   "cell_type": "code",
   "execution_count": 6,
   "id": "cd99560a",
   "metadata": {
    "slideshow": {
     "slide_type": "slide"
    }
   },
   "outputs": [],
   "source": [
    "def add_user_to_list(nombre, usuarios=[]):\n",
    "    \"\"\" agrega un nombre a la lista de usuarios\n",
    "        - si no tenemos una lista de usuarios, usaremos una lista vacia predeterminada\n",
    "        - devuelve la lista de usuarios\n",
    "    \"\"\"\n",
    "    #hacer... cosas... \n",
    "    usuarios.append(nombre)\n",
    "    # devolver la lista\n",
    "    return usuarios"
   ]
  },
  {
   "cell_type": "markdown",
   "id": "f011e517",
   "metadata": {
    "lang": "es",
    "slideshow": {
     "slide_type": "notes"
    }
   },
   "source": [
    "Supongamos que escribimus una función con dos parámetros - un nombre y, opcionalmente, una lista de usuarios. \n",
    "\n",
    "Si no se proporciona una lista de usuarios, se usará la lista vacía predeterminada.\n",
    "\n",
    "La función hace algo, lo que sea, con el nombre, tal vez comprueba que pertenece a un usuario legal, no importa. \n",
    "\n",
    "Después, se agrega el nombre a la lista de usuarios y devuelve la lista con el nombre actual agregado.\n",
    "\n"
   ]
  },
  {
   "cell_type": "code",
   "execution_count": 7,
   "id": "8b4d51fc",
   "metadata": {
    "slideshow": {
     "slide_type": "slide"
    }
   },
   "outputs": [
    {
     "data": {
      "text/plain": [
       "['Juan', 'Maria', 'Carol']"
      ]
     },
     "execution_count": 7,
     "metadata": {},
     "output_type": "execute_result"
    }
   ],
   "source": [
    "usuarios= []\n",
    "\n",
    "usuarios = add_user_to_list(\"Juan\", usuarios)\n",
    "usuarios = add_user_to_list(\"Maria\", usuarios)\n",
    "usuarios = add_user_to_list(\"Carol\", usuarios)\n",
    "\n",
    "usuarios"
   ]
  },
  {
   "cell_type": "markdown",
   "id": "16269eb9",
   "metadata": {
    "slideshow": {
     "slide_type": "notes"
    }
   },
   "source": [
    "Probemos esta función, con algunos nombres y una lista explicita. \n",
    "\n",
    "Parece funcionar bién, ¿no?"
   ]
  },
  {
   "cell_type": "code",
   "execution_count": 11,
   "id": "5c3afb14",
   "metadata": {
    "slideshow": {
     "slide_type": "slide"
    }
   },
   "outputs": [
    {
     "name": "stdout",
     "output_type": "stream",
     "text": [
      "['User', 'User', 'User', 'User']\n"
     ]
    }
   ],
   "source": [
    "usuarios_2 = add_user_to_list(\"User\")\n",
    "print(usuarios_2)"
   ]
  },
  {
   "cell_type": "markdown",
   "id": "69dea397",
   "metadata": {
    "slideshow": {
     "slide_type": "notes"
    }
   },
   "source": [
    "Ahora, la probemos sin una lista, usando el parámetro predeterminado. \n",
    "\n",
    "Todo parece bién, ¿no?\n",
    "\n",
    "La probemos otra vez... ¿cómo? Esto no está funcionando - cada vez debemos recebir una lista con el nombre corriente, pero la función no parece usar una lista vacía, sino la misma lista cada vez... \n"
   ]
  },
  {
   "cell_type": "markdown",
   "id": "abcc1945",
   "metadata": {
    "slideshow": {
     "slide_type": "slide"
    }
   },
   "source": [
    "## ¿Qué está pasando?\n",
    "\n",
    "Es decir, ¿cuál es el modelo mental que tenemos de las funciones?\n",
    "\n",
    "Y ¿cuál es el modelo que podría explicar lo que está pasando?"
   ]
  },
  {
   "cell_type": "markdown",
   "id": "c4c0bfef",
   "metadata": {
    "slideshow": {
     "slide_type": "notes"
    }
   },
   "source": [
    "**¿Qué está pasando?**\n",
    "\n",
    "Si este comportamiento nos sorprende, es probable que no tenemos un modelo mental adecuado, ¿no?\n",
    "\n",
    "Y debe ser un modelo que lo explica. \n",
    "\n",
    "De hecho este comportamiento tiene sentido si se tienen en cuenta dos reglas de Python... "
   ]
  },
  {
   "cell_type": "markdown",
   "id": "15c4000a",
   "metadata": {
    "slideshow": {
     "slide_type": "slide"
    }
   },
   "source": [
    "## En Python\n",
    "* Todo es un objeto, incluso las funciones\n",
    "* Todo el código se ejecuta cuando se carga\n"
   ]
  },
  {
   "cell_type": "markdown",
   "id": "a1a2554b",
   "metadata": {
    "slideshow": {
     "slide_type": "notes"
    }
   },
   "source": [
    "Para crear un modelo más correcto hay que recordar que en Python todo es un objeto, incluso las funciones. Lenguajes compilados como C o Java tenían y aún tienen un enorme influencia sobre como pensamos en lenguajes, y en ellos (y muchos otros) funciones o clases tienen su existencia totalmente aparte de las variables y objetos en un programa. Pero en Python no es así - en Python TODO es un objeto accesible al código, variables, clases, funciones, incluso módulos. \n",
    "\n",
    "Segundo, todo el código se ejecuta cuando se carga. Otra vez, en lenguajes compilados el código de, por ejemplo, una función o método solo se ejecuta cuando se llama. En Python, todo o código se ejecuto cuando se carga.  Claro, las funciones no se llama, pero su código sí esta ejecutado. Si no, la función no sería creado. \n",
    "\n",
    "Entonces, veamos que está pasando en nuestra función...\n"
   ]
  },
  {
   "cell_type": "code",
   "execution_count": 8,
   "id": "0578e39a",
   "metadata": {
    "slideshow": {
     "slide_type": "slide"
    }
   },
   "outputs": [
    {
     "data": {
      "text/plain": [
       "['__annotations__',\n",
       " '__builtins__',\n",
       " '__call__',\n",
       " '__class__',\n",
       " '__closure__',\n",
       " '__code__',\n",
       " '__defaults__',\n",
       " '__delattr__',\n",
       " '__dict__',\n",
       " '__dir__',\n",
       " '__doc__',\n",
       " '__eq__',\n",
       " '__format__',\n",
       " '__ge__',\n",
       " '__get__',\n",
       " '__getattribute__',\n",
       " '__getstate__',\n",
       " '__globals__',\n",
       " '__gt__',\n",
       " '__hash__',\n",
       " '__init__',\n",
       " '__init_subclass__',\n",
       " '__kwdefaults__',\n",
       " '__le__',\n",
       " '__lt__',\n",
       " '__module__',\n",
       " '__name__',\n",
       " '__ne__',\n",
       " '__new__',\n",
       " '__qualname__',\n",
       " '__reduce__',\n",
       " '__reduce_ex__',\n",
       " '__repr__',\n",
       " '__setattr__',\n",
       " '__sizeof__',\n",
       " '__str__',\n",
       " '__subclasshook__']"
      ]
     },
     "execution_count": 8,
     "metadata": {},
     "output_type": "execute_result"
    }
   ],
   "source": [
    "dir(add_user_to_list)"
   ]
  },
  {
   "cell_type": "markdown",
   "id": "05a6ab4c",
   "metadata": {
    "slideshow": {
     "slide_type": "notes"
    }
   },
   "source": [
    "Primero, podemos ver e inspeccionar la función como cualquier objeto. Y podemos ver que tiene varios atributos, muchos compartidos con otros objetos. Otra vez, todo en Python es un objeto y es accesible al código. \n",
    "\n",
    "Y este objeto se crea como objeto en nuestro programa cuando se carga su módulo. (O en nuestro caso, cuando yo ejecuté el célula, que es la misma cosa.)\n",
    "\n",
    "Y en una función también está na tupla `__defaults__` en la que están sus parámetros predeterminados... "
   ]
  },
  {
   "cell_type": "code",
   "execution_count": 12,
   "id": "78785345",
   "metadata": {
    "scrolled": true,
    "slideshow": {
     "slide_type": "slide"
    }
   },
   "outputs": [
    {
     "data": {
      "text/plain": [
       "(['User', 'User', 'User', 'User'],)"
      ]
     },
     "execution_count": 12,
     "metadata": {},
     "output_type": "execute_result"
    }
   ],
   "source": [
    "add_user_to_list.__defaults__"
   ]
  },
  {
   "cell_type": "markdown",
   "id": "7d600193",
   "metadata": {
    "slideshow": {
     "slide_type": "notes"
    }
   },
   "source": [
    "Y en esta tupla, tenemos la lista que vimos arriba..."
   ]
  },
  {
   "cell_type": "code",
   "execution_count": 13,
   "id": "232fa90b",
   "metadata": {
    "slideshow": {
     "slide_type": "slide"
    }
   },
   "outputs": [
    {
     "data": {
      "text/plain": [
       "140042982857024"
      ]
     },
     "execution_count": 13,
     "metadata": {},
     "output_type": "execute_result"
    }
   ],
   "source": [
    "id(add_user_to_list.__defaults__[0])"
   ]
  },
  {
   "cell_type": "markdown",
   "id": "1a29fddd",
   "metadata": {
    "slideshow": {
     "slide_type": "notes"
    }
   },
   "source": [
    "Es fácil mostrar el ID del parámetro.... y podemos usar este ID para ver lo que hace Python. "
   ]
  },
  {
   "cell_type": "code",
   "execution_count": 14,
   "id": "217e8616",
   "metadata": {
    "slideshow": {
     "slide_type": "slide"
    }
   },
   "outputs": [
    {
     "name": "stdout",
     "output_type": "stream",
     "text": [
      "['User', 'User', 'User', 'User', 'User'] 140042982857024\n",
      "['User', 'User', 'User', 'User', 'User'] 140042982857024\n"
     ]
    }
   ],
   "source": [
    "usuarios_2 = add_user_to_list(\"User\")\n",
    "\n",
    "print(f\"{add_user_to_list.__defaults__[0]} {id(add_user_to_list.__defaults__[0])}\")\n",
    "\n",
    "print(f\"{usuarios_2} {id(usuarios_2)}\")\n"
   ]
  },
  {
   "cell_type": "markdown",
   "id": "262f8dbb",
   "metadata": {
    "slideshow": {
     "slide_type": "notes"
    }
   },
   "source": [
    "Podemos llamar la función y mostrar tanto el parámetro predeteriminado y su ID como el objeto devuelto y su \n",
    "ID... \n",
    "\n",
    "Y también es fácil de ver que cada vez que llamamos la función sin el segundo parámetro, es decir, usando el parámetro predeterminado, se usa el mismísimo objeto... Y cuando nuestra función cambia este objeto, el valor \"predeterminado\" también se cambia. "
   ]
  },
  {
   "cell_type": "markdown",
   "id": "b8f24300",
   "metadata": {
    "slideshow": {
     "slide_type": "slide"
    }
   },
   "source": [
    "### Eso quiere decir que... \n",
    "1. Todo es un objeto en Python, incluso las funciones.\n",
    "1. El código en Python se ejecuta cuando se carga...\n",
    "2. La función como objeto se crea en ese momento, y sus `__defaults__` también.\n",
    "3. Los mismos objetos en `__defaults__` se usan cada vez que la función necesita parámetros predeterminados.\n",
    "4. Si un objeto predeterminado es mutable y se cambia, la valor predeterminada de la función cambiará también"
   ]
  },
  {
   "cell_type": "markdown",
   "id": "5194e0d7",
   "metadata": {
    "slideshow": {
     "slide_type": "notes"
    }
   },
   "source": [
    "**Entonces** debemos modificar nuestro modelo mental para que conincida con los siguientes puntos  \n",
    "1. Todo es un objeto en Python, incluso las funciones.\n",
    "1. El código en Python se ejecuta cuando se carga...\n",
    "2. La función como objeto se crea en ese momento, y los objetos en su `__defaults__` también.\n",
    "3. Esos objetos en `__defaults__` se usan cada vez que la función necesita parámetros predeterminados.\n",
    "4. Si un objeto predeterminado es mutable y se cambia, la valor predeterminada de la función cambiará también"
   ]
  },
  {
   "cell_type": "markdown",
   "id": "4a242e13",
   "metadata": {
    "slideshow": {
     "slide_type": "slide"
    }
   },
   "source": [
    "### Entonces, ¿qué hacemos?\n",
    "* Evita usar objetos mutables como parámetros predeterminados\n",
    "* En su lugar, utiliza `None`"
   ]
  },
  {
   "cell_type": "markdown",
   "id": "764ffc4a",
   "metadata": {
    "slideshow": {
     "slide_type": "notes"
    }
   },
   "source": [
    "**Entonces, ¿qué hacemos?**\n",
    "\n",
    "* Evita usar objetos mutables como parámetros predeterminados\n",
    "\n",
    "* En su lugar, utiliza **`None`**"
   ]
  },
  {
   "cell_type": "code",
   "execution_count": 16,
   "id": "e124dca9",
   "metadata": {
    "slideshow": {
     "slide_type": "fragment"
    }
   },
   "outputs": [],
   "source": [
    "def add_user_to_list_2(nombre, usuarios=None):\n",
    "    # si el parámetro usuarios es None, se usará  una lista vacía\n",
    "    if usuarios is None:\n",
    "        usuarios = []\n",
    "    #hacer... cosas... \n",
    "    usuarios.append(nombre)\n",
    "    # devolver la lista\n",
    "    return usuarios"
   ]
  },
  {
   "cell_type": "markdown",
   "id": "9c2b049d",
   "metadata": {
    "slideshow": {
     "slide_type": "notes"
    }
   },
   "source": [
    "Si usamos `None` como el valor del parámetro predeterminado, podemos comprobar el parámetro para ver si es None y luego establecer explícitamente el valor de usuarios a una lista vacía. En este caso cada vez la función devolverá una lista vacía nueva."
   ]
  },
  {
   "cell_type": "code",
   "execution_count": 19,
   "id": "93b91829",
   "metadata": {
    "slideshow": {
     "slide_type": "slide"
    }
   },
   "outputs": [
    {
     "name": "stdout",
     "output_type": "stream",
     "text": [
      "['User'] 140042986093760\n"
     ]
    }
   ],
   "source": [
    "usuarios_3 = add_user_to_list_2(\"User\")\n",
    "print(f\"{usuarios_3} {id(usuarios_3)}\")\n"
   ]
  },
  {
   "cell_type": "markdown",
   "id": "d28d7c76",
   "metadata": {
    "slideshow": {
     "slide_type": "notes"
    }
   },
   "source": [
    "Si llamamos la función varias veces, cada vez (como vemos) la función devuelve una nueva lista vacía. "
   ]
  },
  {
   "cell_type": "markdown",
   "id": "8b41c5b8",
   "metadata": {
    "slideshow": {
     "slide_type": "slide"
    }
   },
   "source": [
    "### En resumen...\n",
    "* Parámetros predeterminados se crean cuando se crea su función\n",
    "* La función siempre usará el mismo objeto como parámetro predeterminado\n",
    "* Evite usar un objeto mutable como el valor de un parámetro predeterminado\n",
    "* Es mejor usar `None` como el valor y explicitemente establecer el valor si el parámetro es `None`"
   ]
  },
  {
   "cell_type": "markdown",
   "id": "4c99ac47",
   "metadata": {
    "slideshow": {
     "slide_type": "notes"
    }
   },
   "source": [
    "**Es decir que...** nuestro modelo de funciones debe tener en cuenta que  \n",
    "* Parámetros predeterminados se crean cuando se crea su función\n",
    "* La función siempre usará el mismo objeto como parámetro predeterminado\n",
    "* Evite usar un objeto mutable como el valor de un parámetro predeterminado\n",
    "* Es mejor usar `None` como el valor y explicitemente establecer un a valor si el parámetro es `None`\n",
    "\n",
    "Así entendemos tanto las trampas de parámetros predeterminados como el por qué de la mejor práctica para evitarlos."
   ]
  },
  {
   "cell_type": "markdown",
   "id": "58f41dd8",
   "metadata": {
    "slideshow": {
     "slide_type": "slide"
    }
   },
   "source": [
    "## Rompecabeza 2\n",
    "\n",
    "### ¿Cómo funciona `import`?"
   ]
  },
  {
   "cell_type": "markdown",
   "id": "dc010865",
   "metadata": {
    "slideshow": {
     "slide_type": "notes"
    }
   },
   "source": [
    "La segunda sorpresa para los pricipiantes en Python es cómo funciona (o a veces aparentemente **no** funciona) `import` en Python. \n",
    "\n",
    "Por ejemplo consideremos un módulo como este...\n",
    "\n",
    "(tengo el código sigiente en un módulo `test_import.py`)"
   ]
  },
  {
   "cell_type": "markdown",
   "id": "f03fad41",
   "metadata": {
    "slideshow": {
     "slide_type": "slide"
    }
   },
   "source": [
    "### (código del módulo `test_import.py`)\n",
    "```python\n",
    "print(\"Hola desde test_import.py!\")\n",
    "for x in range(1_000_000):\n",
    "    y = x ** 3\n",
    "print(f\"calculated {x+1} cubes, highest was {y}\")\n",
    "\n",
    "def foo_4(parameter=[]):\n",
    "    test_var = \"test\"\n",
    "    print(parameter)\n",
    "    parameter.append(\"test\")\n",
    "    return parameter\n",
    "\"\"\"\n",
    "def foo_5(parameter=None):\n",
    "    return parameter\n",
    "\"\"\"\n",
    "# codigo que refiere al objeto (función) foo_4 creado encima\n",
    "print(f\"Object creado {foo_4}, con id de {id(foo_4)}\")\n",
    "```"
   ]
  },
  {
   "cell_type": "markdown",
   "id": "cfa44a87",
   "metadata": {
    "slideshow": {
     "slide_type": "notes"
    }
   },
   "source": [
    "Claro este no es el mejor módulo del mundo, sino no es el peor tampoco. He visto muchos peores en producción... pero admito que los `print`s son solo para ilustración. \n",
    "\n",
    "Primero tenemos un `print` y un bucle y después otro `print`. \n",
    "\n",
    "Luego, tenemos una función `foo_4` y una función `foo_5` que está en una cadena... en efecto, un comentario. \n",
    "\n",
    "Finalmente hay un `print` mostrando la función foo_4 como objeto y su `id`\n",
    "\n",
    "Bueno, ¿qué pasa con este módulo cuando lo importamos? "
   ]
  },
  {
   "cell_type": "code",
   "execution_count": 22,
   "id": "bb3b1f16",
   "metadata": {
    "slideshow": {
     "slide_type": "slide"
    }
   },
   "outputs": [
    {
     "name": "stdout",
     "output_type": "stream",
     "text": [
      "Hola desde test_import.py!\n",
      "calculated 1000000 cubes, highest was 999997000002999999\n",
      "Object creado <function foo_4 at 0x7fbc88327420>, con id de 140447715587104\n"
     ]
    }
   ],
   "source": [
    "import test_import"
   ]
  },
  {
   "cell_type": "markdown",
   "id": "a52d5786",
   "metadata": {
    "slideshow": {
     "slide_type": "notes"
    }
   },
   "source": [
    "Pues parece que todas las líneas del código se ejecutaron. Tenemos imprimidos el primer mensaje, los resultados del bucle y el objeto de la función y su `id`. \n",
    "\n"
   ]
  },
  {
   "cell_type": "markdown",
   "id": "a0cc20b3",
   "metadata": {
    "slideshow": {
     "slide_type": "slide"
    }
   },
   "source": [
    "### Todo el código se ejecuta cuando se carga el módulo..."
   ]
  },
  {
   "cell_type": "markdown",
   "id": "61af1ac5",
   "metadata": {
    "slideshow": {
     "slide_type": "notes"
    }
   },
   "source": [
    "Luego por supuesto que los `print`s se ejecutan... y el bucle, y la definición de `foo_4`.\n",
    "\n",
    "Según el modelo que hemos desarollado arriba eso tiene sentido, ¿no? Todo el código de la módulo se ejecuta cuando se carga el módulo..."
   ]
  },
  {
   "cell_type": "markdown",
   "id": "724d76ca",
   "metadata": {
    "slideshow": {
     "slide_type": "slide"
    }
   },
   "source": [
    "### Y todo en Python es un objeto... \n",
    "\n",
    "incluso módulos"
   ]
  },
  {
   "cell_type": "code",
   "execution_count": 23,
   "id": "1a44ad75",
   "metadata": {
    "slideshow": {
     "slide_type": "fragment"
    }
   },
   "outputs": [
    {
     "name": "stdout",
     "output_type": "stream",
     "text": [
      "<module 'test_import' from '/home/naomi/Dropbox/talks/PyLatam2023/test_import.py'> - 140447807828704\n"
     ]
    }
   ],
   "source": [
    "print(f\"{test_import} - {id(test_import)}\")"
   ]
  },
  {
   "cell_type": "markdown",
   "id": "db2cae37",
   "metadata": {
    "slideshow": {
     "slide_type": "notes"
    }
   },
   "source": [
    "Podemos ver que el módulo `test_import` existe como objeto con `id` \n",
    "\n",
    "Esto también es de acuerdo al modelo que hemos desarollado... tanto los módulos como las funciones son objetos accesibles en Python. "
   ]
  },
  {
   "cell_type": "markdown",
   "id": "dcbcc2fa",
   "metadata": {
    "slideshow": {
     "slide_type": "slide"
    }
   },
   "source": [
    "### Y ¿si queremos importar un módulo otra vez?\n",
    "\n",
    "* Eso no debería pasar en un programa en producción...\n",
    "* Pero podría ser útil cuando estamos desarrollándolo y estamos en un shell... jupyter notebook, por ejemplo"
   ]
  },
  {
   "cell_type": "markdown",
   "id": "8704d263",
   "metadata": {
    "slideshow": {
     "slide_type": "notes"
    }
   },
   "source": [
    "**Pero qué pasa si queremos importarlo otra vez?** \n",
    "\n",
    "Tengo que admitir que eso no debería pasar en producción... \n",
    "\n",
    "Pero podría ocurrir cuando estamos estamos desarrollando algo en un shell (jupyter notebook, por ejemplo) \n",
    "\n",
    "y he visto que lo que pasa sorprende a personas con poca experiencia con Python. "
   ]
  },
  {
   "cell_type": "code",
   "execution_count": 24,
   "id": "edd416e9",
   "metadata": {
    "slideshow": {
     "slide_type": "slide"
    }
   },
   "outputs": [],
   "source": [
    "# import otra vez\n",
    "import test_import"
   ]
  },
  {
   "cell_type": "markdown",
   "id": "374389c8",
   "metadata": {
    "slideshow": {
     "slide_type": "notes"
    }
   },
   "source": [
    "Bueno, importemos el módulo de nuevo... ¿qué pasa?\n",
    "\n",
    "Hmmm.... parece que la respuesta es 'nada'... \n",
    "\n",
    "Entonces, tal vez tenemos que modificar nuestro archivo... \n",
    "\n",
    "Podemos agregar la función `foo_5`"
   ]
  },
  {
   "cell_type": "markdown",
   "id": "93905f21",
   "metadata": {
    "slideshow": {
     "slide_type": "slide"
    }
   },
   "source": [
    "### (modificar y guardar el código del módulo `test_import.py`)"
   ]
  },
  {
   "cell_type": "code",
   "execution_count": 1,
   "id": "98e61634",
   "metadata": {
    "slideshow": {
     "slide_type": "slide"
    }
   },
   "outputs": [
    {
     "name": "stdout",
     "output_type": "stream",
     "text": [
      "Hola desde test_import.py!\n",
      "calculated 1000000 cubes, highest was 999997000002999999\n",
      "Object creado <function foo_4 at 0x7f92e45d5580>, con id de 140268873274752\n"
     ]
    },
    {
     "ename": "NameError",
     "evalue": "name 'foo_5' is not defined",
     "output_type": "error",
     "traceback": [
      "\u001b[0;31m---------------------------------------------------------------------------\u001b[0m",
      "\u001b[0;31mNameError\u001b[0m                                 Traceback (most recent call last)",
      "Cell \u001b[0;32mIn[1], line 6\u001b[0m\n\u001b[1;32m      1\u001b[0m \u001b[38;5;66;03m# añadir función foo_5\u001b[39;00m\n\u001b[1;32m      2\u001b[0m \u001b[38;5;66;03m# guardar los cambios\u001b[39;00m\n\u001b[1;32m      4\u001b[0m \u001b[38;5;28;01mimport\u001b[39;00m \u001b[38;5;21;01mtest_import\u001b[39;00m\n\u001b[0;32m----> 6\u001b[0m \u001b[43mfoo_5\u001b[49m()\n",
      "\u001b[0;31mNameError\u001b[0m: name 'foo_5' is not defined"
     ]
    }
   ],
   "source": [
    "# añadir función foo_5\n",
    "# guardar los cambios\n",
    "\n",
    "import test_import\n",
    "\n",
    "foo_5()"
   ]
  },
  {
   "cell_type": "markdown",
   "id": "b8b8873c",
   "metadata": {
    "slideshow": {
     "slide_type": "notes"
    }
   },
   "source": [
    "Hmmm... pero guardamos la nueva versión... ¿por qué no se cargó?\n",
    "\n",
    "Vamos a tentar a importar solo `foo_5`..."
   ]
  },
  {
   "cell_type": "code",
   "execution_count": 2,
   "id": "129ef2b7",
   "metadata": {
    "scrolled": true,
    "slideshow": {
     "slide_type": "slide"
    }
   },
   "outputs": [
    {
     "ename": "ImportError",
     "evalue": "cannot import name 'foo_5' from 'test_import' (/home/naomi/Dropbox/talks/PyConES2023/test_import.py)",
     "output_type": "error",
     "traceback": [
      "\u001b[0;31m---------------------------------------------------------------------------\u001b[0m",
      "\u001b[0;31mImportError\u001b[0m                               Traceback (most recent call last)",
      "Cell \u001b[0;32mIn[2], line 3\u001b[0m\n\u001b[1;32m      1\u001b[0m \u001b[38;5;66;03m# import solo foo_5\u001b[39;00m\n\u001b[0;32m----> 3\u001b[0m \u001b[38;5;28;01mfrom\u001b[39;00m \u001b[38;5;21;01mtest_import\u001b[39;00m \u001b[38;5;28;01mimport\u001b[39;00m foo_5\n",
      "\u001b[0;31mImportError\u001b[0m: cannot import name 'foo_5' from 'test_import' (/home/naomi/Dropbox/talks/PyConES2023/test_import.py)"
     ]
    }
   ],
   "source": [
    "# import solo foo_5\n",
    "\n",
    "from test_import import foo_5"
   ]
  },
  {
   "cell_type": "markdown",
   "id": "312527ee",
   "metadata": {
    "slideshow": {
     "slide_type": "notes"
    }
   },
   "source": [
    "Eso tampoco funciona... \n",
    "\n",
    "Pues todo en Python es un objeto, luego examinemos el objeto del módulo `test_import`...\n"
   ]
  },
  {
   "cell_type": "code",
   "execution_count": 27,
   "id": "c72a7156",
   "metadata": {
    "scrolled": true,
    "slideshow": {
     "slide_type": "slide"
    }
   },
   "outputs": [
    {
     "data": {
      "text/plain": [
       "['__builtins__',\n",
       " '__cached__',\n",
       " '__doc__',\n",
       " '__file__',\n",
       " '__loader__',\n",
       " '__name__',\n",
       " '__package__',\n",
       " '__spec__',\n",
       " 'foo_4',\n",
       " 'x',\n",
       " 'y']"
      ]
     },
     "execution_count": 27,
     "metadata": {},
     "output_type": "execute_result"
    }
   ],
   "source": [
    "dir(test_import)"
   ]
  },
  {
   "cell_type": "markdown",
   "id": "f7a82d06",
   "metadata": {
    "slideshow": {
     "slide_type": "notes"
    }
   },
   "source": [
    "Contiene un objeto `foo_4` pero no un objeto `foo_5`. Parece que el módulo no se cargó la segunda vez. \n",
    "\n",
    "Y de hecho, eso es otra regla de Python\n",
    "\n"
   ]
  },
  {
   "cell_type": "markdown",
   "id": "4b241835",
   "metadata": {
    "slideshow": {
     "slide_type": "slide"
    }
   },
   "source": [
    "### Normalmente un módulo se puede cargar solo una vez... \n",
    "\n",
    "* Existe un diccionario `modules` con todos los módulos activos\n",
    "* Cuando se ejecuta un `import` si el módulo ya está cargado, es decir, está en ese diccionario, no se vuelve a cargar.\n",
    "\n"
   ]
  },
  {
   "cell_type": "markdown",
   "id": "1e9e0395",
   "metadata": {
    "slideshow": {
     "slide_type": "notes"
    }
   },
   "source": [
    "**Normalmente un módulo se puede cargar solo una vez...**\n",
    "\n",
    "* Existe un diccionario `modules` con todos los módulos activos\n",
    "* Cuando se ejecuta un `import` si el módulo ya está cargado, es decir, está en ese diccionario, no se vuelve a cargar.\n",
    "\n",
    "\n",
    "\n",
    "Para hacer visible este diccionario `modules` hay que import `sys`"
   ]
  },
  {
   "cell_type": "code",
   "execution_count": 5,
   "id": "fe24b60c",
   "metadata": {
    "slideshow": {
     "slide_type": "slide"
    }
   },
   "outputs": [
    {
     "ename": "KeyError",
     "evalue": "'test_import'",
     "output_type": "error",
     "traceback": [
      "\u001b[0;31m---------------------------------------------------------------------------\u001b[0m",
      "\u001b[0;31mKeyError\u001b[0m                                  Traceback (most recent call last)",
      "Cell \u001b[0;32mIn[5], line 2\u001b[0m\n\u001b[1;32m      1\u001b[0m \u001b[38;5;28;01mimport\u001b[39;00m \u001b[38;5;21;01msys\u001b[39;00m\n\u001b[0;32m----> 2\u001b[0m \u001b[43msys\u001b[49m\u001b[38;5;241;43m.\u001b[39;49m\u001b[43mmodules\u001b[49m\u001b[43m[\u001b[49m\u001b[38;5;124;43m'\u001b[39;49m\u001b[38;5;124;43mtest_import\u001b[39;49m\u001b[38;5;124;43m'\u001b[39;49m\u001b[43m]\u001b[49m\n",
      "\u001b[0;31mKeyError\u001b[0m: 'test_import'"
     ]
    }
   ],
   "source": [
    "import sys\n",
    "sys.modules['test_import']"
   ]
  },
  {
   "cell_type": "markdown",
   "id": "ed8a8eff",
   "metadata": {
    "slideshow": {
     "slide_type": "notes"
    }
   },
   "source": [
    "El nombre de módulo es una clave en el diccionario y el módulo es el valor.... "
   ]
  },
  {
   "cell_type": "code",
   "execution_count": 6,
   "id": "31234a53",
   "metadata": {
    "slideshow": {
     "slide_type": "slide"
    }
   },
   "outputs": [
    {
     "ename": "KeyError",
     "evalue": "'test_import'",
     "output_type": "error",
     "traceback": [
      "\u001b[0;31m---------------------------------------------------------------------------\u001b[0m",
      "\u001b[0;31mKeyError\u001b[0m                                  Traceback (most recent call last)",
      "Cell \u001b[0;32mIn[6], line 1\u001b[0m\n\u001b[0;32m----> 1\u001b[0m \u001b[38;5;28;01mdel\u001b[39;00m \u001b[43msys\u001b[49m\u001b[38;5;241;43m.\u001b[39;49m\u001b[43mmodules\u001b[49m\u001b[43m[\u001b[49m\u001b[38;5;124;43m'\u001b[39;49m\u001b[38;5;124;43mtest_import\u001b[39;49m\u001b[38;5;124;43m'\u001b[39;49m\u001b[43m]\u001b[49m\n",
      "\u001b[0;31mKeyError\u001b[0m: 'test_import'"
     ]
    }
   ],
   "source": [
    "del sys.modules['test_import']"
   ]
  },
  {
   "cell_type": "markdown",
   "id": "f59467a9",
   "metadata": {
    "slideshow": {
     "slide_type": "notes"
    }
   },
   "source": [
    "Pero qué pasaría se borraremos 'test_import'?\n",
    "\n",
    "Vamos a ver...."
   ]
  },
  {
   "cell_type": "code",
   "execution_count": 30,
   "id": "6b80fad1",
   "metadata": {
    "slideshow": {
     "slide_type": "slide"
    }
   },
   "outputs": [
    {
     "ename": "KeyError",
     "evalue": "'test_import'",
     "output_type": "error",
     "traceback": [
      "\u001b[0;31m---------------------------------------------------------------------------\u001b[0m",
      "\u001b[0;31mKeyError\u001b[0m                                  Traceback (most recent call last)",
      "Cell \u001b[0;32mIn[30], line 1\u001b[0m\n\u001b[0;32m----> 1\u001b[0m \u001b[43msys\u001b[49m\u001b[38;5;241;43m.\u001b[39;49m\u001b[43mmodules\u001b[49m\u001b[43m[\u001b[49m\u001b[38;5;124;43m'\u001b[39;49m\u001b[38;5;124;43mtest_import\u001b[39;49m\u001b[38;5;124;43m'\u001b[39;49m\u001b[43m]\u001b[49m\n",
      "\u001b[0;31mKeyError\u001b[0m: 'test_import'"
     ]
    }
   ],
   "source": [
    "sys.modules['test_import']"
   ]
  },
  {
   "cell_type": "markdown",
   "id": "7301117a",
   "metadata": {
    "slideshow": {
     "slide_type": "notes"
    }
   },
   "source": [
    "Pues, ya no está... al menos en el diccionario... "
   ]
  },
  {
   "cell_type": "code",
   "execution_count": 7,
   "id": "f67754fc",
   "metadata": {
    "slideshow": {
     "slide_type": "slide"
    }
   },
   "outputs": [
    {
     "data": {
      "text/plain": [
       "<module 'test_import' from '/home/naomi/Dropbox/talks/PyConES2023/test_import.py'>"
      ]
     },
     "execution_count": 7,
     "metadata": {},
     "output_type": "execute_result"
    }
   ],
   "source": [
    "test_import"
   ]
  },
  {
   "cell_type": "markdown",
   "id": "b2175672",
   "metadata": {
    "slideshow": {
     "slide_type": "notes"
    }
   },
   "source": [
    "Bueno, no está en el diccionario, sino el objeto todavía existe... \n",
    "\n",
    "Sin embargo... si no está en el diccionario, ¿Python nos deja volver a importarlo?"
   ]
  },
  {
   "cell_type": "code",
   "execution_count": 8,
   "id": "e98f3e5f",
   "metadata": {
    "slideshow": {
     "slide_type": "slide"
    }
   },
   "outputs": [
    {
     "name": "stdout",
     "output_type": "stream",
     "text": [
      "Hola desde test_import.py!\n",
      "calculated 1000000 cubes, highest was 999997000002999999\n",
      "Object creado <function foo_4 at 0x7f92e900d580>, con id de 140268951098752\n"
     ]
    }
   ],
   "source": [
    "import test_import"
   ]
  },
  {
   "cell_type": "markdown",
   "id": "0fa2ab1c",
   "metadata": {
    "slideshow": {
     "slide_type": "notes"
    }
   },
   "source": [
    "Debido a que ya no está en el diccionario, podemos \"engañar\" a Python para que vuelva a cargar el módulo.\n",
    "\n",
    "Pero esta no es la mejor manera de hacerla... se podría dejar el módulo original aún en la memoria... y con referéncias activas... lo que podría crear bugs y sorpresas..."
   ]
  },
  {
   "cell_type": "markdown",
   "id": "de4f379f",
   "metadata": {
    "slideshow": {
     "slide_type": "slide"
    }
   },
   "source": [
    "### ¿Cual es la mejor práctica se tenemos que re-importar un módulo?\n",
    "\n",
    "* La función `reload` en la biblioteca `importlib'\n",
    "* Se usa el objeto módulo como parámetro\n"
   ]
  },
  {
   "cell_type": "markdown",
   "id": "63903ea9",
   "metadata": {
    "slideshow": {
     "slide_type": "notes"
    }
   },
   "source": [
    "Si no queremos dejar un objeto huérfano debemos siempre usar `reload` y no este truco con el diccionario de modules."
   ]
  },
  {
   "cell_type": "code",
   "execution_count": 33,
   "id": "7add8b16",
   "metadata": {
    "slideshow": {
     "slide_type": "slide"
    }
   },
   "outputs": [
    {
     "name": "stdout",
     "output_type": "stream",
     "text": [
      "Hola desde test_import.py!\n",
      "calculated 1000000 cubes, highest was 999997000002999999\n",
      "Object creado <function foo_4 at 0x7fbc883277e0>, con id de 140447715588064\n"
     ]
    },
    {
     "data": {
      "text/plain": [
       "<module 'test_import' from '/home/naomi/Dropbox/talks/PyLatam2023/test_import.py'>"
      ]
     },
     "execution_count": 33,
     "metadata": {},
     "output_type": "execute_result"
    }
   ],
   "source": [
    "from importlib import reload\n",
    "reload(test_import)"
   ]
  },
  {
   "cell_type": "markdown",
   "id": "a0fde418",
   "metadata": {
    "slideshow": {
     "slide_type": "notes"
    }
   },
   "source": [
    "Con `reload` todo el módulo se reimporta y todo el código se ejecuta otra vez."
   ]
  },
  {
   "cell_type": "markdown",
   "id": "819e922e",
   "metadata": {
    "slideshow": {
     "slide_type": "slide"
    }
   },
   "source": [
    "### ¿Qué hay de `from x import y`?\n",
    "\n",
    "* Seguramente, (esp.en producción) es mejor importar solo un objeto en vez de todo el módulo, ¿no?\n",
    "* ¿Se ejecuta solo el código del objeto especificado?\n",
    "* ¿Se utiliza menos memoria?\n",
    "* ¿Se carga más rápido?\n",
    "\n"
   ]
  },
  {
   "cell_type": "markdown",
   "id": "e3e580c5",
   "metadata": {
    "slideshow": {
     "slide_type": "notes"
    }
   },
   "source": [
    "Hay otra cosa con `import`... para programadores de C, o Java, o otros lenguajes puede ser una buena idea importar solo uno objeto de un módulo. En Pythyon tenemos algo parecido de la forma `from modulo import objeto`\n",
    "\n",
    "Seguramente, ellos piensan, (esp.en producción) \n",
    "* es mejor importar solo un objeto en vez de todo el módulo, ¿no?\n",
    "* Se ejecuta solo el código del objeto especificado...\n",
    "* Se utiliza menos memoria...\n",
    "* Se carga más rápido...\n",
    "\n",
    "Y sí esta forma de importar puede ser una buena idea a veces, pero jamás por esas razones... porque no hace lo que creen... "
   ]
  },
  {
   "cell_type": "markdown",
   "id": "47322fd3",
   "metadata": {
    "slideshow": {
     "slide_type": "slide"
    }
   },
   "source": [
    "### (Restart kernel)"
   ]
  },
  {
   "cell_type": "markdown",
   "id": "c3666b7c",
   "metadata": {
    "slideshow": {
     "slide_type": "notes"
    }
   },
   "source": [
    "Vamos a probarlo... \n",
    "\n",
    "Antes, reiniciemos el kernel... \n",
    "\n",
    "(con 0 0)"
   ]
  },
  {
   "cell_type": "code",
   "execution_count": 1,
   "id": "6ba4c4c4",
   "metadata": {
    "scrolled": true,
    "slideshow": {
     "slide_type": "slide"
    }
   },
   "outputs": [
    {
     "ename": "KeyError",
     "evalue": "'test_import'",
     "output_type": "error",
     "traceback": [
      "\u001b[0;31m---------------------------------------------------------------------------\u001b[0m",
      "\u001b[0;31mKeyError\u001b[0m                                  Traceback (most recent call last)",
      "Cell \u001b[0;32mIn[1], line 5\u001b[0m\n\u001b[1;32m      1\u001b[0m \u001b[38;5;66;03m# reinciar el kernel\u001b[39;00m\n\u001b[1;32m      3\u001b[0m \u001b[38;5;28;01mimport\u001b[39;00m \u001b[38;5;21;01msys\u001b[39;00m\n\u001b[0;32m----> 5\u001b[0m \u001b[43msys\u001b[49m\u001b[38;5;241;43m.\u001b[39;49m\u001b[43mmodules\u001b[49m\u001b[43m[\u001b[49m\u001b[38;5;124;43m'\u001b[39;49m\u001b[38;5;124;43mtest_import\u001b[39;49m\u001b[38;5;124;43m'\u001b[39;49m\u001b[43m]\u001b[49m\n",
      "\u001b[0;31mKeyError\u001b[0m: 'test_import'"
     ]
    }
   ],
   "source": [
    "# reinciar el kernel\n",
    "\n",
    "import sys\n",
    "\n",
    "sys.modules['test_import']"
   ]
  },
  {
   "cell_type": "markdown",
   "id": "2f0b2683",
   "metadata": {
    "slideshow": {
     "slide_type": "notes"
    }
   },
   "source": [
    "Y mirar la lista de módulos...\n",
    "\n",
    "Primero lo confirmemos de que un módulo `test_import` aún no está en `modules`..."
   ]
  },
  {
   "cell_type": "code",
   "execution_count": 2,
   "id": "aad6c31e",
   "metadata": {
    "scrolled": true,
    "slideshow": {
     "slide_type": "slide"
    }
   },
   "outputs": [
    {
     "data": {
      "text/plain": [
       "['In',\n",
       " 'Out',\n",
       " '_',\n",
       " '__',\n",
       " '___',\n",
       " '__builtin__',\n",
       " '__builtins__',\n",
       " '__doc__',\n",
       " '__loader__',\n",
       " '__name__',\n",
       " '__package__',\n",
       " '__session__',\n",
       " '__spec__',\n",
       " '_dh',\n",
       " '_i',\n",
       " '_i1',\n",
       " '_i2',\n",
       " '_ih',\n",
       " '_ii',\n",
       " '_iii',\n",
       " '_oh',\n",
       " 'black_reformat',\n",
       " 'exit',\n",
       " 'get_ipython',\n",
       " 'json',\n",
       " 'open',\n",
       " 'quit',\n",
       " 'sys']"
      ]
     },
     "execution_count": 2,
     "metadata": {},
     "output_type": "execute_result"
    }
   ],
   "source": [
    "dir()"
   ]
  },
  {
   "cell_type": "markdown",
   "id": "3645538d",
   "metadata": {
    "slideshow": {
     "slide_type": "notes"
    }
   },
   "source": [
    "Por supuesto tampoco está en nuestro namespace..."
   ]
  },
  {
   "cell_type": "code",
   "execution_count": 3,
   "id": "0a03fe53",
   "metadata": {
    "slideshow": {
     "slide_type": "slide"
    }
   },
   "outputs": [
    {
     "name": "stdout",
     "output_type": "stream",
     "text": [
      "Hola desde test_import.py!\n",
      "calculated 1000000 cubes, highest was 999997000002999999\n",
      "Object creado <function foo_4 at 0x7fa8eb7e1b20>, con id de 140363482143520\n"
     ]
    }
   ],
   "source": [
    "from test_import import foo_4"
   ]
  },
  {
   "cell_type": "markdown",
   "id": "ed869be5",
   "metadata": {
    "slideshow": {
     "slide_type": "notes"
    }
   },
   "source": [
    "Luego, importamos **solo**S la función `foo_4` desde el módulo `test_import`...\n",
    "\n",
    "Pero parece que todo el código se ejecutó... investiguemos... "
   ]
  },
  {
   "cell_type": "code",
   "execution_count": 4,
   "id": "198278ff",
   "metadata": {
    "slideshow": {
     "slide_type": "slide"
    }
   },
   "outputs": [
    {
     "ename": "NameError",
     "evalue": "name 'test_import' is not defined",
     "output_type": "error",
     "traceback": [
      "\u001b[0;31m---------------------------------------------------------------------------\u001b[0m",
      "\u001b[0;31mNameError\u001b[0m                                 Traceback (most recent call last)",
      "Cell \u001b[0;32mIn[4], line 1\u001b[0m\n\u001b[0;32m----> 1\u001b[0m \u001b[43mtest_import\u001b[49m\n",
      "\u001b[0;31mNameError\u001b[0m: name 'test_import' is not defined"
     ]
    }
   ],
   "source": [
    "test_import"
   ]
  },
  {
   "cell_type": "markdown",
   "id": "fe2fccc4",
   "metadata": {
    "slideshow": {
     "slide_type": "notes"
    }
   },
   "source": [
    "el módulo `test_import` no parece haber sido cargado... pero... "
   ]
  },
  {
   "cell_type": "code",
   "execution_count": 5,
   "id": "a239b9d0",
   "metadata": {
    "slideshow": {
     "slide_type": "slide"
    }
   },
   "outputs": [
    {
     "data": {
      "text/plain": [
       "<module 'test_import' from '/home/naomi/Dropbox/talks/PyConES2023/test_import.py'>"
      ]
     },
     "execution_count": 5,
     "metadata": {},
     "output_type": "execute_result"
    }
   ],
   "source": [
    "import sys\n",
    "sys.modules['test_import']"
   ]
  },
  {
   "cell_type": "markdown",
   "id": "e577e788",
   "metadata": {
    "slideshow": {
     "slide_type": "notes"
    }
   },
   "source": [
    "Está en el diccionario de los módulos... luego el módulo ENTERO ha sido cargado y TODO su código ha sido ejecutado. "
   ]
  },
  {
   "cell_type": "markdown",
   "id": "daf03368",
   "metadata": {
    "slideshow": {
     "slide_type": "slide"
    }
   },
   "source": [
    "### Es decir que importar solo un objeto de un módulo...\n",
    "* carga y ejecuta **todo** el código del módulo\n",
    "* no es más rápido\n",
    "* no ahorra memoria\n",
    "* solo hace dos cosas:\n",
    "   * el nombre puede ser un poco más simple - e.g., `foo_4` en vez de `test_import.foo_4`\n",
    "   * otros objetos dentro del módulo no están ni visibles ni disponibles "
   ]
  },
  {
   "cell_type": "markdown",
   "id": "a97da1f1",
   "metadata": {
    "slideshow": {
     "slide_type": "notes"
    }
   },
   "source": [
    "### Es decir que importar solo un objeto de un módulo...\n",
    "* carga y ejecuta todo el código del módulo\n",
    "* no es más rápido\n",
    "* no ahorra memoria\n",
    "* solo hace dos cosas:\n",
    "   * el nombre puede ser un poco más simple\n",
    "   * otros objetos dentro del módulo no están ni visibles ni disponibles "
   ]
  },
  {
   "cell_type": "markdown",
   "id": "385499b1",
   "metadata": {
    "slideshow": {
     "slide_type": "slide"
    }
   },
   "source": [
    "## En resumen... \n",
    "* Todo (casi) en Python es un objeto\n",
    "* Todo el código de un módulo se ejecuta cuando se carga, luego...\n",
    "  * las funciones **Y** sus parámetros predefinidos se crean en ese momento \n",
    "  * por eso hay que tener cuidado con parámetros predefinidos mutables\n",
    "  * los módulos y sus atributos se crean cuando se cargan (y no se puede reimportar un módule sin `reload`)\n",
    "* el uso de `from x import y` tiene que ver solo con los nombres, no con que código se carga y se ejecuta\n",
    "  \n",
    "\n"
   ]
  },
  {
   "cell_type": "markdown",
   "id": "12c8dabf",
   "metadata": {
    "slideshow": {
     "slide_type": "notes"
    }
   },
   "source": [
    "## En resumen... \n",
    "* Todo (casi) en Python es un objeto\n",
    "* Todo el código de un módulo se ejecuta cuando se carga, luego...\n",
    "  * las funciones **Y** sus parámetros predefinidos se crean en ese momento \n",
    "  * por eso hay que tener cuidado con parámetros predefinidos mutables\n",
    "  * los módulos y sus atributos se crean cuando se cargan (y no se puede reimportar un módule sin `reload`)\n",
    "* el uso de `from x import y` tiene que ver solo con los nombres, no con que código se carga y se ejecuta\n",
    "  \n",
    "\n"
   ]
  },
  {
   "cell_type": "markdown",
   "id": "6374ebbc",
   "metadata": {
    "slideshow": {
     "slide_type": "slide"
    }
   },
   "source": [
    "## ¿Preguntas?\n",
    "\n",
    "### y ¡muchas gracias por escucharme!  "
   ]
  }
 ],
 "metadata": {
  "celltoolbar": "Slideshow",
  "kernelspec": {
   "display_name": "Python 3 (ipykernel)",
   "language": "python",
   "name": "python3"
  },
  "language_info": {
   "codemirror_mode": {
    "name": "ipython",
    "version": 3
   },
   "file_extension": ".py",
   "mimetype": "text/x-python",
   "name": "python",
   "nbconvert_exporter": "python",
   "pygments_lexer": "ipython3",
   "version": "3.11.4"
  },
  "nbTranslate": {
   "displayLangs": [
    "es",
    "en"
   ],
   "hotkey": "alt-t",
   "langInMainMenu": true,
   "sourceLang": "en",
   "targetLang": "es",
   "useGoogleTranslate": true
  },
  "toc": {
   "base_numbering": 1,
   "nav_menu": {},
   "number_sections": false,
   "sideBar": true,
   "skip_h1_title": false,
   "title_cell": "Table of Contents",
   "title_sidebar": "Contents",
   "toc_cell": false,
   "toc_position": {},
   "toc_section_display": true,
   "toc_window_display": false
  }
 },
 "nbformat": 4,
 "nbformat_minor": 5
}
