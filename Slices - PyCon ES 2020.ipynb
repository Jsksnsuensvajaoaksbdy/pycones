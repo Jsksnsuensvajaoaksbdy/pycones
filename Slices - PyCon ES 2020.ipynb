{
 "cells": [
  {
   "cell_type": "markdown",
   "metadata": {
    "slideshow": {
     "slide_type": "slide"
    }
   },
   "source": [
    "# Una rebanada de Python\n",
    "## PyConES 2020\n",
    "\n",
    "![Slices](pie_slices_2.jpg)\n",
    "\n",
    "\n",
    "**Naomi Ceder - 2020-10-03**"
   ]
  },
  {
   "cell_type": "markdown",
   "metadata": {
    "slideshow": {
     "slide_type": "notes"
    }
   },
   "source": [
    "Hola, soy Naomi Ceder y hoy quiero hablar un poco sobre una caractéristica poco apreciada de Python, la segmentación o el uso de las rebanadas."
   ]
  },
  {
   "cell_type": "markdown",
   "metadata": {
    "slideshow": {
     "slide_type": "slide"
    }
   },
   "source": [
    "## En Python hay varios tipos de secuencias\n",
    "\n",
    "* listas\n",
    "* tuplas\n",
    "* cadenas\n",
    "* etc \n"
   ]
  },
  {
   "cell_type": "markdown",
   "metadata": {
    "slideshow": {
     "slide_type": "notes"
    }
   },
   "source": [
    "En Python hay varios tipos de secuencia - listas, tuplas, cadenas, etc., "
   ]
  },
  {
   "cell_type": "markdown",
   "metadata": {
    "slideshow": {
     "slide_type": "slide"
    }
   },
   "source": [
    "### Y una caractéristica muy interesante de ellos es el uso de las rebanadas (*slices* en inglés)\n",
    "\n",
    "Rebanadas (*slices*) son una manera de extraer y manipular secuencia y sub-secuencias\n",
    "\n"
   ]
  },
  {
   "cell_type": "markdown",
   "metadata": {
    "slideshow": {
     "slide_type": "notes"
    }
   },
   "source": [
    "y una caractéristica poderosa (pero en general no entendida) de ellos es el uso de rebanadas (slices). "
   ]
  },
  {
   "cell_type": "markdown",
   "metadata": {
    "slideshow": {
     "slide_type": "slide"
    }
   },
   "source": [
    "## Lo básico"
   ]
  },
  {
   "cell_type": "markdown",
   "metadata": {
    "slideshow": {
     "slide_type": "notes"
    }
   },
   "source": [
    "Vamos a revisar rápidamente lo básico del uso de las rebanadas, con unos ejemplos..."
   ]
  },
  {
   "cell_type": "markdown",
   "metadata": {
    "slideshow": {
     "slide_type": "slide"
    }
   },
   "source": [
    "### La notación de rebanada\n",
    "\n",
    "* Las rebanadas se indican por el uso de `:` en corchetes \n",
    "\n"
   ]
  },
  {
   "cell_type": "markdown",
   "metadata": {
    "slideshow": {
     "slide_type": "notes"
    }
   },
   "source": [
    "`:` indican una rebanada siempre y cuando se utilicen entre corchetes\n",
    "\n",
    "* `[]` - corchetes\n",
    "* `:` - dos puntos"
   ]
  },
  {
   "cell_type": "markdown",
   "metadata": {
    "slideshow": {
     "slide_type": "slide"
    }
   },
   "source": [
    "### Especificar una rebanada\n",
    "\n",
    "La forma más completa es proporcionar:\n",
    "* un valor de *start* o el indice dónde se comienza la rebanada\n",
    "* un valor de *stop*, es decir el indice **antes** de que termina la rebanada\n",
    "* un valor de *step* o \"paso\", que es la cantidad de indices que avanza la rebanada cada vez"
   ]
  },
  {
   "cell_type": "code",
   "execution_count": 84,
   "metadata": {
    "slideshow": {
     "slide_type": "fragment"
    }
   },
   "outputs": [
    {
     "data": {
      "text/plain": [
       "[0, 1, 2, 3, 4, 5, 6, 7, 8, 9]"
      ]
     },
     "execution_count": 84,
     "metadata": {},
     "output_type": "execute_result"
    }
   ],
   "source": [
    "a_list = [0, 1, 2, 3, 4, 5, 6, 7, 8, 9]\n",
    "\n",
    "a_list[0:len(a_list):1]"
   ]
  },
  {
   "cell_type": "markdown",
   "metadata": {
    "slideshow": {
     "slide_type": "notes"
    }
   },
   "source": [
    "*estos ejemplos son listas en general, pero todas las secuencias se comportan en la misma manera.*"
   ]
  },
  {
   "cell_type": "markdown",
   "metadata": {
    "slideshow": {
     "slide_type": "slide"
    }
   },
   "source": [
    "### Todos los valores son opcionales...\n",
    "\n",
    "Si se omite un valor de:\n",
    "* *start* se usa 0 (o el inicio de la secuencia)\n",
    "* *stop* se usa el indice final de la secuencia + 1\n",
    "* *step* se usa 1, y se incluyen todos los indices desde *start* hasta *stop*"
   ]
  },
  {
   "cell_type": "code",
   "execution_count": 85,
   "metadata": {
    "scrolled": false,
    "slideshow": {
     "slide_type": "fragment"
    }
   },
   "outputs": [
    {
     "data": {
      "text/plain": [
       "[0, 1, 2, 3, 4, 5, 6, 7, 8, 9]"
      ]
     },
     "execution_count": 85,
     "metadata": {},
     "output_type": "execute_result"
    }
   ],
   "source": [
    "a_list[:]"
   ]
  },
  {
   "cell_type": "markdown",
   "metadata": {
    "slideshow": {
     "slide_type": "notes"
    }
   },
   "source": [
    "Se pueden copiar unos elementos a otra lista\n",
    "\n",
    "(pero ten cuidado, es solo una copia superficial, los elementos mismos no se copian.)\n",
    "\n",
    "Se retorna un objeto nuevo de tipo lista, pero los elementos aún son referencias a los mismos elementos que están en la secuencia original."
   ]
  },
  {
   "cell_type": "code",
   "execution_count": 86,
   "metadata": {
    "slideshow": {
     "slide_type": "fragment"
    }
   },
   "outputs": [
    {
     "name": "stdout",
     "output_type": "stream",
     "text": [
      "[0, 1, 2, 3, 4, 5, 6, 7, 8, 9]\n",
      "id(another_list ) = 140225768013696      id(a_list) = 140225767901760\n"
     ]
    }
   ],
   "source": [
    "another_list = a_list[:]\n",
    "print(another_list)\n",
    "print(f\"id(another_list ) = {id(another_list):<20} id(a_list) = {id(a_list)}\")\n"
   ]
  },
  {
   "cell_type": "code",
   "execution_count": 87,
   "metadata": {
    "slideshow": {
     "slide_type": "slide"
    }
   },
   "outputs": [
    {
     "data": {
      "text/plain": [
       "[]"
      ]
     },
     "execution_count": 87,
     "metadata": {},
     "output_type": "execute_result"
    }
   ],
   "source": [
    "a_list = [0,1,2,3,4,5,6,7,8,9]\n",
    "\n",
    "# rebanada vacía\n",
    "a_list[1:1] "
   ]
  },
  {
   "cell_type": "code",
   "execution_count": 88,
   "metadata": {
    "slideshow": {
     "slide_type": "fragment"
    }
   },
   "outputs": [
    {
     "data": {
      "text/plain": [
       "[2, 4, 6]"
      ]
     },
     "execution_count": 88,
     "metadata": {},
     "output_type": "execute_result"
    }
   ],
   "source": [
    "# step of 2\n",
    "a_list[2:7:2]"
   ]
  },
  {
   "cell_type": "code",
   "execution_count": 89,
   "metadata": {
    "slideshow": {
     "slide_type": "fragment"
    }
   },
   "outputs": [
    {
     "data": {
      "text/plain": [
       "[2, 3, 4, 5, 6]"
      ]
     },
     "execution_count": 89,
     "metadata": {},
     "output_type": "execute_result"
    }
   ],
   "source": [
    "# sub-lista\n",
    "a_list[2:7]  "
   ]
  },
  {
   "cell_type": "markdown",
   "metadata": {
    "slideshow": {
     "slide_type": "slide"
    }
   },
   "source": [
    "### Los valores se pueden ser negativos\n",
    "\n",
    "Si es negativo el valor de:\n",
    "* *start* - se cuenta desde el final - -1 es el último indice, -2 es el segundo desde el último, etc\n",
    "* *stop* - se cuenta desde el final - -1 es el último indice, -2 es el segundo desde el último, etc\n",
    "* *step* - la rebanada se crea desde el fin hasta el principio"
   ]
  },
  {
   "cell_type": "code",
   "execution_count": 90,
   "metadata": {
    "slideshow": {
     "slide_type": "fragment"
    }
   },
   "outputs": [
    {
     "data": {
      "text/plain": [
       "[0, 1, 2, 3, 4, 5]"
      ]
     },
     "execution_count": 90,
     "metadata": {},
     "output_type": "execute_result"
    }
   ],
   "source": [
    "# negative index for stop position\n",
    "a_list[:-4]  "
   ]
  },
  {
   "cell_type": "code",
   "execution_count": 91,
   "metadata": {
    "slideshow": {
     "slide_type": "fragment"
    }
   },
   "outputs": [
    {
     "data": {
      "text/plain": [
       "[9, 8, 7, 6, 5, 4, 3, 2, 1, 0]"
      ]
     },
     "execution_count": 91,
     "metadata": {},
     "output_type": "execute_result"
    }
   ],
   "source": [
    "a_list[::-1]"
   ]
  },
  {
   "cell_type": "markdown",
   "metadata": {
    "slideshow": {
     "slide_type": "slide"
    }
   },
   "source": [
    "## Un poco más alla de lo básico"
   ]
  },
  {
   "cell_type": "markdown",
   "metadata": {
    "slideshow": {
     "slide_type": "slide"
    }
   },
   "source": [
    "### Meter, quitar, modificar "
   ]
  },
  {
   "cell_type": "code",
   "execution_count": 92,
   "metadata": {
    "slideshow": {
     "slide_type": "fragment"
    }
   },
   "outputs": [
    {
     "data": {
      "text/plain": [
       "[0, 1, 2, 3, 1, 2, 3, 4, 5, 6, 7, 8, 9]"
      ]
     },
     "execution_count": 92,
     "metadata": {},
     "output_type": "execute_result"
    }
   ],
   "source": [
    "a_list = [0,1, 2, 3, 4, 5, 6, 7, 8, 9]\n",
    "a_list[1:1] = [1, 2, 3]\n",
    "a_list"
   ]
  },
  {
   "cell_type": "markdown",
   "metadata": {
    "slideshow": {
     "slide_type": "notes"
    }
   },
   "source": [
    "\n",
    "Una rebanada puede reemplazar otra, incluso una rebanada vacía (en tipos mutables)\n",
    "\n",
    "Reemplazar una rebanada con una rebanada vacía la eliminará \n",
    "\n",
    "Funciona con valores de *step* distintos de 1, pero el número de elementos debe conincidir"
   ]
  },
  {
   "cell_type": "code",
   "execution_count": 94,
   "metadata": {
    "scrolled": true,
    "slideshow": {
     "slide_type": "fragment"
    }
   },
   "outputs": [
    {
     "data": {
      "text/plain": [
       "[0, 4, 5, 6, 7, 8, 9]"
      ]
     },
     "execution_count": 94,
     "metadata": {},
     "output_type": "execute_result"
    }
   ],
   "source": [
    "a_list[1:4] = []\n",
    "a_list"
   ]
  },
  {
   "cell_type": "code",
   "execution_count": 96,
   "metadata": {
    "slideshow": {
     "slide_type": "fragment"
    }
   },
   "outputs": [
    {
     "data": {
      "text/plain": [
       "[0, 1, 2, 3, 2, 5, 2, 7, 2, 9]"
      ]
     },
     "execution_count": 96,
     "metadata": {},
     "output_type": "execute_result"
    }
   ],
   "source": [
    "a_list = [0, 1, 2, 3, 4, 5, 6, 7, 8, 9]\n",
    "\n",
    "a_list[4:9:2] = [2, 2, 2] \n",
    "a_list"
   ]
  },
  {
   "cell_type": "markdown",
   "metadata": {
    "slideshow": {
     "slide_type": "slide"
    }
   },
   "source": [
    "## Pero ¿qué es una rebanada?\n",
    "   \n",
    "Un experimento..."
   ]
  },
  {
   "cell_type": "markdown",
   "metadata": {
    "slideshow": {
     "slide_type": "notes"
    }
   },
   "source": [
    "Pues, hemos visto que las rebanadas son útiles... y comunes también... pero ¿qué es una rebanada? ¿Cómo se crean y se utilizan?\n",
    "\n",
    "Hagamos un experimento sencillo para ver como funciona una rebanada... "
   ]
  },
  {
   "cell_type": "code",
   "execution_count": 98,
   "metadata": {
    "slideshow": {
     "slide_type": "slide"
    }
   },
   "outputs": [
    {
     "name": "stdout",
     "output_type": "stream",
     "text": [
      "1\n",
      "slice(None, None, None)\n"
     ]
    },
    {
     "data": {
      "text/plain": [
       "[0, 1, 2, 3, 4, 5, 6, 7, 8, 9]"
      ]
     },
     "execution_count": 98,
     "metadata": {},
     "output_type": "execute_result"
    }
   ],
   "source": [
    "class MyList(list):\n",
    "    def __getitem__(self, index):\n",
    "        print(index)        # imprime lo que es \"index\"\n",
    "        return super().__getitem__(index)\n",
    "        \n",
    "my_list = MyList([0, 1, 2, 3, 4, 5, 6, 7, 8, 9])\n",
    "\n",
    "my_list[1] \n",
    "my_list[:] "
   ]
  },
  {
   "cell_type": "markdown",
   "metadata": {
    "slideshow": {
     "slide_type": "notes"
    }
   },
   "source": [
    "Para entender lo que es una rebanada tenemos que ver lo que acontece cuando se usa los dos punto en corchetes. \n",
    "\n",
    "Vamos a crear una subclasse de lista que imprima lo que es el indice en los corchetes. "
   ]
  },
  {
   "cell_type": "code",
   "execution_count": 99,
   "metadata": {
    "slideshow": {
     "slide_type": "fragment"
    }
   },
   "outputs": [
    {
     "name": "stdout",
     "output_type": "stream",
     "text": [
      "slice(2, 7, 2)\n"
     ]
    },
    {
     "data": {
      "text/plain": [
       "[2, 4, 6]"
      ]
     },
     "execution_count": 99,
     "metadata": {},
     "output_type": "execute_result"
    }
   ],
   "source": [
    "my_list[2:7:2]"
   ]
  },
  {
   "cell_type": "markdown",
   "metadata": {
    "slideshow": {
     "slide_type": "fragment"
    }
   },
   "source": [
    "#### La notación de rebanada dentro de  `[ ]`  se convierte en un objeto `slice` anónimo "
   ]
  },
  {
   "cell_type": "markdown",
   "metadata": {
    "slideshow": {
     "slide_type": "slide"
    }
   },
   "source": [
    "### ¿Podemos crear un objeto `slice`?"
   ]
  },
  {
   "cell_type": "code",
   "execution_count": 100,
   "metadata": {
    "slideshow": {
     "slide_type": "fragment"
    }
   },
   "outputs": [
    {
     "data": {
      "text/plain": [
       "slice(0, 3, 1)"
      ]
     },
     "execution_count": 100,
     "metadata": {},
     "output_type": "execute_result"
    }
   ],
   "source": [
    "my_slice = slice(0, 3, 1)\n",
    "my_slice "
   ]
  },
  {
   "cell_type": "markdown",
   "metadata": {
    "slideshow": {
     "slide_type": "fragment"
    }
   },
   "source": [
    "#### `slice()` usa los elementos de la notación de rebanada como sus parámetros"
   ]
  },
  {
   "cell_type": "code",
   "execution_count": 101,
   "metadata": {
    "slideshow": {
     "slide_type": "slide"
    }
   },
   "outputs": [
    {
     "name": "stdout",
     "output_type": "stream",
     "text": [
      "slice(0, 3, 1)\n"
     ]
    },
    {
     "data": {
      "text/plain": [
       "[0, 1, 2]"
      ]
     },
     "execution_count": 101,
     "metadata": {},
     "output_type": "execute_result"
    }
   ],
   "source": [
    "my_list = MyList([0, 1, 2, 3, 4, 5, 6, 7, 8, 9])\n",
    "\n",
    "my_list[my_slice]   # --> [0:3:1]"
   ]
  },
  {
   "cell_type": "markdown",
   "metadata": {
    "slideshow": {
     "slide_type": "fragment"
    }
   },
   "source": [
    "#### Los objetos de tipo slice pueden usarse en vez de la notación"
   ]
  },
  {
   "cell_type": "markdown",
   "metadata": {
    "slideshow": {
     "slide_type": "slide"
    }
   },
   "source": [
    "#### Entonces rebanadas comunes se pueden crear una vez <br/>como variables con nombres más legibles:"
   ]
  },
  {
   "cell_type": "code",
   "execution_count": 102,
   "metadata": {
    "slideshow": {
     "slide_type": "fragment"
    }
   },
   "outputs": [
    {
     "name": "stdout",
     "output_type": "stream",
     "text": [
      "slice(0, None, 2)\n"
     ]
    },
    {
     "data": {
      "text/plain": [
       "[0, 2, 4, 6, 8]"
      ]
     },
     "execution_count": 102,
     "metadata": {},
     "output_type": "execute_result"
    }
   ],
   "source": [
    "elementos_pares = slice(0, None, 2)    # --> [0::2]\n",
    "my_list[elementos_pares]"
   ]
  },
  {
   "cell_type": "markdown",
   "metadata": {
    "slideshow": {
     "slide_type": "skip"
    }
   },
   "source": [
    "### Atributos de un objeto `slice`\n",
    "#### `start`, `step`, `stop`, y `indices()`"
   ]
  },
  {
   "cell_type": "code",
   "execution_count": null,
   "metadata": {
    "slideshow": {
     "slide_type": "skip"
    }
   },
   "outputs": [],
   "source": [
    "dir(my_slice)\n"
   ]
  },
  {
   "cell_type": "markdown",
   "metadata": {
    "slideshow": {
     "slide_type": "skip"
    }
   },
   "source": [
    "### start, stop, step\n"
   ]
  },
  {
   "cell_type": "code",
   "execution_count": null,
   "metadata": {
    "slideshow": {
     "slide_type": "skip"
    }
   },
   "outputs": [],
   "source": [
    "my_slice.start, my_slice.stop, my_slice.step\n"
   ]
  },
  {
   "cell_type": "markdown",
   "metadata": {
    "slideshow": {
     "slide_type": "skip"
    }
   },
   "source": [
    "### ¿Qué hay de `indices()`?\n",
    "\n",
    "El método `indices()`\n",
    "* recibe un tamaño\n",
    "* devuelve las indices las que la rebanada usaría para una secuencia de ese tamaño"
   ]
  },
  {
   "cell_type": "code",
   "execution_count": null,
   "metadata": {
    "slideshow": {
     "slide_type": "skip"
    }
   },
   "outputs": [],
   "source": [
    "a_slice = slice(None, None)    # --> [:]\n",
    "a_slice.indices(10)"
   ]
  },
  {
   "cell_type": "code",
   "execution_count": null,
   "metadata": {
    "slideshow": {
     "slide_type": "skip"
    }
   },
   "outputs": [],
   "source": [
    "a_slice = slice(-1, None, -1)   # --> reversing\n",
    "a_slice.indices(10)"
   ]
  },
  {
   "cell_type": "markdown",
   "metadata": {
    "slideshow": {
     "slide_type": "skip"
    }
   },
   "source": [
    "## La segmentación extendida \n",
    "### (con ellipsis y rebanadas múltiples)\n",
    "\n",
    "* si hay tiempo suficiente"
   ]
  },
  {
   "cell_type": "markdown",
   "metadata": {
    "slideshow": {
     "slide_type": "skip"
    }
   },
   "source": [
    "#### Ellipsis"
   ]
  },
  {
   "cell_type": "code",
   "execution_count": null,
   "metadata": {
    "slideshow": {
     "slide_type": "skip"
    }
   },
   "outputs": [],
   "source": [
    "# slice with ellipsis\n",
    "\n",
    "my_slice = slice(0, ..., 1)\n",
    "my_slice"
   ]
  },
  {
   "cell_type": "markdown",
   "metadata": {
    "slideshow": {
     "slide_type": "skip"
    }
   },
   "source": [
    "#### Multiple slices (often used for mult-dimensional slicing)"
   ]
  },
  {
   "cell_type": "code",
   "execution_count": null,
   "metadata": {
    "slideshow": {
     "slide_type": "skip"
    }
   },
   "outputs": [],
   "source": [
    "class ShowIndex:\n",
    "    def __getitem__(self, index):\n",
    "        return index\n",
    "    \n",
    "test = ShowIndex()\n",
    "test[0:-1:1, 2:...:2]"
   ]
  },
  {
   "cell_type": "markdown",
   "metadata": {
    "slideshow": {
     "slide_type": "slide"
    }
   },
   "source": [
    "## Conclusión\n",
    "\n",
    "* Las rebanadas son objetos que se crean cuanto dos puntos se usan en `[ ]`\n",
    "* Las rebanadas se pueden crear con la función `slice()`\n",
    "* Las rebanadas se pueden asignar a variables \n"
   ]
  },
  {
   "cell_type": "markdown",
   "metadata": {
    "slideshow": {
     "slide_type": "notes"
    }
   },
   "source": [
    "La segmentación con rebanadas es una manera poderosa y flexible para manipular secuencias y sub-secuencias"
   ]
  },
  {
   "cell_type": "markdown",
   "metadata": {
    "slideshow": {
     "slide_type": "slide"
    }
   },
   "source": [
    "## ¡Gracias!\n",
    "\n",
    "### ¿Preguntas?\n",
    "\n",
    "Las diapos (y el archivo de jupyter notebook) están en https://github.com/nceder/pyconlatam)\n",
    "\n",
    "(el mejor fuente de más informaciones sobre las rebanadas en Python es el *Fluent Python* por Luciano Ramalho)\n"
   ]
  },
  {
   "cell_type": "markdown",
   "metadata": {
    "slideshow": {
     "slide_type": "notes"
    }
   },
   "source": [
    "Las diapos están aquí... \n",
    "\n",
    "(el mejor fuente de más informaciones sobre las rebanadas en Python es el *Fluent Python* por Luciano Ramalho)\n",
    "\n",
    "y, por supuesto, si tienen alguna pregunta estaré encantada de contestarles. \n",
    "\n",
    "¿Hay preguntas?"
   ]
  }
 ],
 "metadata": {
  "celltoolbar": "Slideshow",
  "kernelspec": {
   "display_name": "Python 3",
   "language": "python",
   "name": "python3"
  },
  "language_info": {
   "codemirror_mode": {
    "name": "ipython",
    "version": 3
   },
   "file_extension": ".py",
   "mimetype": "text/x-python",
   "name": "python",
   "nbconvert_exporter": "python",
   "pygments_lexer": "ipython3",
   "version": "3.8.3"
  },
  "livereveal": {
   "scroll": true,
   "start_slideshow_at": "selected",
   "theme": "white",
   "transition": "none"
  }
 },
 "nbformat": 4,
 "nbformat_minor": 2
}
